{
 "metadata": {
  "language_info": {
   "codemirror_mode": {
    "name": "ipython",
    "version": 3
   },
   "file_extension": ".py",
   "mimetype": "text/x-python",
   "name": "python",
   "nbconvert_exporter": "python",
   "pygments_lexer": "ipython3",
   "version": "3.8.5-final"
  },
  "orig_nbformat": 2,
  "kernelspec": {
   "name": "python_defaultSpec_1596809227907",
   "display_name": "Python 3.8.5 64-bit ('venv': venv)"
  }
 },
 "nbformat": 4,
 "nbformat_minor": 2,
 "cells": [
  {
   "cell_type": "code",
   "execution_count": 2,
   "metadata": {},
   "outputs": [],
   "source": [
    "import pandas as pd"
   ]
  },
  {
   "cell_type": "code",
   "execution_count": 3,
   "metadata": {},
   "outputs": [],
   "source": [
    "xls = pd.ExcelFile('/Users/edgarmonis/Desktop/WHO/labelling_tool/data/unprocessed/Q&A BC Immunize vaccine safety 3 topics ISA.xlsx')\n",
    "\n",
    "df0 = pd.read_excel(xls)\n",
    "df0 = df0.dropna()"
   ]
  },
  {
   "cell_type": "code",
   "execution_count": 4,
   "metadata": {},
   "outputs": [
    {
     "output_type": "execute_result",
     "data": {
      "text/plain": "1426"
     },
     "metadata": {},
     "execution_count": 4
    }
   ],
   "source": [
    "df0.head()\n",
    "len(df0)\n",
    "len(df0.dropna())"
   ]
  },
  {
   "cell_type": "code",
   "execution_count": 5,
   "metadata": {},
   "outputs": [
    {
     "output_type": "execute_result",
     "data": {
      "text/plain": "array(['Vaccine safety', 'School-age children & teens',\n       'Shingles vaccines', 'General immunization', 'Adults',\n       'Measles, mumps and rubella vaccines', 'Influenza vaccines',\n       'Measles, mumps and rubella vaccines, Pregnancy',\n       'Infants & young children', 'Chickenpox vaccines',\n       'School-age children & teens, Chickenpox vaccines',\n       'Vaccine ingredients', 'Where to get immunized', 'Travel vaccines',\n       'Other', 'Diphtheria, tetanus and pertussis vaccines',\n       'Infants & young children, Vaccine safety, Rotavirus Vaccines',\n       'Adults, School-age children & teens', 'HPV vaccines',\n       'Pneumococcal vaccines', 'Chickenpox vaccines, Shingles vaccines',\n       'Immunization records', 'Meningococcal vaccines',\n       'TB skin test, Where to get immunized',\n       'School-age children & teens, HPV vaccines',\n       'Infants & young children, Rotavirus Vaccines',\n       'Shingles vaccines, Chickenpox vaccines',\n       'School-age children & teens, Immunization records, Hepatitis B vaccine',\n       'Immunization records, Pneumococcal vaccines',\n       'Hepatitis A vaccine, Hepatitis B vaccine',\n       'Immunization records, Travel vaccines',\n       'Where to get immunized, Diphtheria, tetanus and pertussis vaccines',\n       'Pregnancy', 'Adults, Other', 'Hepatitis B vaccine',\n       'Meningococcal vaccines, School-age children & teens',\n       'Influenza vaccines, Pregnancy', 'Adults, Travel vaccines',\n       'Vaccine safety, Infants & young children',\n       'Vaccine safety, Influenza vaccines',\n       'Vaccine ingredients, Vaccine safety', 'Adults, Pregnancy',\n       'Pregnancy, Diphtheria, tetanus and pertussis vaccines',\n       'Shingles vaccines, Other', 'Travel vaccines, Other',\n       'Adults, Diphtheria, tetanus and pertussis vaccines',\n       'Hepatitis A vaccine, Hepatitis B vaccine, Travel vaccines',\n       'Pregnancy, Chickenpox vaccines',\n       'Adults, Measles, mumps and rubella vaccines',\n       'Infants & young children, Chickenpox vaccines',\n       'School-age children & teens, Diphtheria, tetanus and pertussis vaccines',\n       'School-age children & teens, Immunization records',\n       'Immunization records, Other',\n       'Infants & young children, Where to get immunized, General immunization',\n       'Infants & young children, Where to get immunized',\n       'Adults, Chickenpox vaccines', 'Adults, HPV vaccines',\n       'Immunization records, Chickenpox vaccines, Measles, mumps and rubella vaccines',\n       'Infants & young children, Vaccine safety',\n       'Where to get immunized, Immunization records',\n       'Adults, Where to get immunized',\n       'Where to get immunized, Travel vaccines', 'TB skin test',\n       'Adults, Shingles vaccines',\n       'Adults, Where to get immunized, Immunization records',\n       'Infants & young children, Travel vaccines',\n       'Vaccine ingredients, Influenza vaccines',\n       'Pneumococcal vaccines, Other',\n       'Adults, Diphtheria, tetanus and pertussis vaccines, Shingles vaccines',\n       'Vaccine safety, HPV vaccines',\n       'Adults, Where to get immunized, Measles, mumps and rubella vaccines',\n       'Infants & young children, Diphtheria, tetanus and pertussis vaccines',\n       'Adults, Hepatitis B vaccine', 'Adults, Immunization records',\n       'School-age children & teens, Other',\n       'Adults, Meningococcal vaccines',\n       'Where to get immunized, Influenza vaccines', 'Rotavirus Vaccines',\n       'Vaccine safety, Meningococcal vaccines',\n       'Infants & young children, Vaccine safety, Diphtheria, tetanus and pertussis vaccines',\n       'Infants & young children, Measles, mumps and rubella vaccines, Travel vaccines',\n       'Vaccine safety, General immunization',\n       'Chickenpox vaccines, Travel vaccines',\n       'Adults, General immunization',\n       'Adults, Where to get immunized, Shingles vaccines',\n       'TB skin test, Chickenpox vaccines',\n       'Vaccine safety, Hepatitis B vaccine',\n       'Adults, Where to get immunized, Influenza vaccines',\n       'School-age children & teens, Vaccine safety, Diphtheria, tetanus and pertussis vaccines',\n       'Infants & young children, Immunization records',\n       'School-age children & teens, Vaccine safety',\n       'Vaccine ingredients, Where to get immunized, Influenza vaccines',\n       'Vaccine safety, Shingles vaccines, Other',\n       'Hepatitis B vaccine, Other',\n       'Adults, Immunization records, Measles, mumps and rubella vaccines',\n       'Adults, Influenza vaccines',\n       'Adults, Where to get immunized, Pneumococcal vaccines',\n       'Adults, Influenza vaccines, Pneumococcal vaccines',\n       'Adults, Where to get immunized, General immunization',\n       'Hepatitis A vaccine',\n       'Vaccine safety, Vaccine ingredients, HPV vaccines, Pneumococcal vaccines',\n       'Vaccine safety, Influenza vaccines, Shingles vaccines',\n       'Adults, Immunization records, Other',\n       'Where to get immunized, Influenza vaccines, General immunization',\n       'Adults, Vaccine safety, Diphtheria, tetanus and pertussis vaccines',\n       'Influenza vaccines, Other',\n       'School-age children & teens, Vaccine safety, Where to get immunized',\n       'Adults, Where to get immunized, Travel vaccines',\n       'Adults, Influenza vaccines, Other',\n       'Adults, Where to get immunized, TB skin test',\n       'Adults, Vaccine safety, Shingles vaccines',\n       'Adults, Where to get immunized, Immunization records, Hepatitis A vaccine, Hepatitis B vaccine, Travel vaccines',\n       'Where to get immunized, Pneumococcal vaccines',\n       'School-age children & teens, Where to get immunized, Immunization records',\n       'Adults, Where to get immunized, Hepatitis B vaccine',\n       'Adults, Vaccine safety, Where to get immunized, Influenza vaccines, Shingles vaccines',\n       'Adults, Vaccine safety, Vaccine ingredients, Influenza vaccines',\n       'Adults, Vaccine safety, Where to get immunized',\n       'Adults, Where to get immunized, HPV vaccines',\n       'Adults, Vaccine safety, Influenza vaccines',\n       'Adults, Vaccine safety, Where to get immunized, Influenza vaccines',\n       'Vaccine safety, Where to get immunized, General immunization',\n       'Pregnancy, Vaccine safety, Diphtheria, tetanus and pertussis vaccines',\n       'TB skin test, Other',\n       'Infants & young children, Where to get immunized, Diphtheria, tetanus and pertussis vaccines',\n       'Measles, mumps and rubella vaccines, Other',\n       'Adults, Pneumococcal vaccines',\n       'Adults, Where to get immunized, Hepatitis B vaccine, Travel vaccines',\n       'Adults, Vaccine ingredients, Diphtheria, tetanus and pertussis vaccines',\n       'Vaccine safety, Where to get immunized, Influenza vaccines',\n       'Immunization records, Shingles vaccines',\n       'Adults, Chickenpox vaccines, Shingles vaccines',\n       'Vaccine safety, Vaccine ingredients',\n       'Adults, Vaccine safety, Vaccine ingredients, Diphtheria, tetanus and pertussis vaccines',\n       'Adults, Where to get immunized, Diphtheria, tetanus and pertussis vaccines',\n       'Adults, Vaccine safety, Vaccine ingredients',\n       'Where to get immunized, General immunization',\n       'Where to get immunized, Hepatitis A vaccine', 'Vaccine Schedules',\n       'Immunization records, Measles, mumps and rubella vaccines',\n       'Meningococcal vaccines, Pneumococcal vaccines',\n       'Chickenpox vaccines, Measles, mumps and rubella vaccines',\n       'Vaccine safety, Hepatitis A vaccine, Hepatitis B vaccine',\n       'Where to get immunized, Shingles vaccines',\n       'School-age children & teens, Where to get immunized',\n       'Measles, mumps and rubella vaccines, Travel vaccines',\n       'Infants & young children, Vaccine Schedules',\n       'Infants & young children, Influenza vaccines',\n       'School-age children & teens, Adults',\n       'Infants & young children, Measles, mumps and rubella vaccines',\n       'TB skin test, General immunization',\n       'School-age children & teens, General immunization',\n       'Infants & young children, School-age children & teens, General immunization',\n       'Infants & young children, Hepatitis B vaccine',\n       'Hepatitis A vaccine, Influenza vaccines'], dtype=object)"
     },
     "metadata": {},
     "execution_count": 5
    }
   ],
   "source": [
    "df0['Categories'].unique()"
   ]
  },
  {
   "cell_type": "code",
   "execution_count": 6,
   "metadata": {
    "tags": []
   },
   "outputs": [
    {
     "output_type": "stream",
     "name": "stdout",
     "text": "['Adults', 'Chickenpox vaccines', 'Diphtheria', 'General immunization', 'HPV vaccines', 'Hepatitis A vaccine', 'Hepatitis B vaccine', 'Immunization records', 'Infants & young children', 'Influenza vaccines', 'Measles', 'Meningococcal vaccines', 'Other', 'Pneumococcal vaccines', 'Pregnancy', 'Rotavirus Vaccines', 'School-age children & teens', 'Shingles vaccines', 'TB skin test', 'Travel vaccines', 'Vaccine Schedules', 'Vaccine ingredients', 'Vaccine safety', 'Where to get immunized', 'mumps and rubella vaccines', 'tetanus and pertussis vaccines']\n"
    }
   ],
   "source": [
    "all_labels = []\n",
    "for x in df0['Categories'].unique():\n",
    "    all_labels.extend(y.strip() for y in x.split(','))\n",
    "\n",
    "labels = sorted(list(set(all_labels)))\n",
    "print(labels)\n",
    "\n",
    "label_dict = {}\n",
    "for idx, x in enumerate(labels):\n",
    "    label_dict[x]=idx"
   ]
  },
  {
   "cell_type": "code",
   "execution_count": 7,
   "metadata": {
    "tags": []
   },
   "outputs": [],
   "source": [
    "import numpy as np\n",
    "\n",
    "df_rows = []\n",
    "for idx, row in df0.iterrows():\n",
    "    text = row['Question']\n",
    "    row_labels = [x.strip() for x in row['Categories'].split(',')]\n",
    "    xcel_labels = np.zeros(len(labels),dtype=int)\n",
    "    for x in row_labels:\n",
    "        xcel_labels[label_dict[x]]=1\n",
    "\n",
    "    new_array = [text] + list(xcel_labels)\n",
    "    df_rows.append(new_array)"
   ]
  },
  {
   "cell_type": "code",
   "execution_count": 8,
   "metadata": {},
   "outputs": [],
   "source": [
    "import random\n",
    "random.shuffle(df_rows)\n",
    "train_data = df_rows[:1000]\n",
    "test_data  = df_rows[1000:]"
   ]
  },
  {
   "cell_type": "code",
   "execution_count": 9,
   "metadata": {},
   "outputs": [],
   "source": [
    "proc_data = train_data\n",
    "col_names = ['text'] + labels\n",
    "one_hot_df = pd.DataFrame(proc_data, columns=col_names)\n",
    "one_hot_df.to_csv('./train_vac_xcl.csv')\n",
    "\n",
    "proc_data = test_data\n",
    "col_names = ['text'] + labels\n",
    "one_hot_df = pd.DataFrame(proc_data, columns=col_names)\n",
    "one_hot_df.to_csv('./test_vac_xcl.csv')"
   ]
  }
 ]
}